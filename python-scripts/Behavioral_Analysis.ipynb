{
 "cells": [
  {
   "cell_type": "markdown",
   "id": "352dd7be",
   "metadata": {},
   "source": [
    "Load all necessary modules"
   ]
  },
  {
   "cell_type": "code",
   "execution_count": null,
   "id": "094d00d2",
   "metadata": {},
   "outputs": [],
   "source": [
    "import os\n",
    "import pandas as pd\n",
    "import seaborn as sns\n",
    "import matplotlib.pyplot as plt\n",
    "%matplotlib tk"
   ]
  },
  {
   "cell_type": "markdown",
   "id": "5169019f",
   "metadata": {},
   "source": [
    "Type your summary VonFrey experimental data directory here\n"
   ]
  },
  {
   "cell_type": "code",
   "execution_count": null,
   "id": "9aa8ff56",
   "metadata": {},
   "outputs": [],
   "source": [
    "directory = 'D:/Project_Master_Folder/Withdrawal-Pain-Anxiety/Pain/VonFrey_SummaryData.xlsx'\n",
    "data = pd.read_excel(directory)\n",
    "data.head()\n",
    "\n",
    "# Plot the lines on two facets\n",
    "sns.relplot(\n",
    "    data=data,\n",
    "    x=\"Test_day\", y=\"Threshold\",\n",
    "    hue=\"Treatment\",  col=\"Hindpaw\",\n",
    "    kind=\"line\", \n",
    "    height=5, aspect=.75, facet_kws=dict(sharex=False),\n",
    ")"
   ]
  },
  {
   "cell_type": "markdown",
   "id": "8f3cb7fd",
   "metadata": {},
   "source": [
    "Type you Open fied data folder directory here"
   ]
  },
  {
   "cell_type": "code",
   "execution_count": null,
   "id": "f2922d1e",
   "metadata": {},
   "outputs": [],
   "source": [
    "directory = 'D:/Project_Master_Folder/Withdrawal-Pain-Anxiety/Anxiety/OpenField\\MWD'\n",
    "i = 0\n",
    "for filenames in os.listdir(directory):\n",
    "    if filenames.endswith('.csv'):\n",
    "        # Prepare the Summary DataFrame for Each Session\n",
    "        df = pd.read_csv(os.path.join(directory, filenames), header = 0)\n",
    "    else:\n",
    "        continue\n",
    "    if i == 0:\n",
    "        data = df\n",
    "    else:\n",
    "        data = pd.concat([data,df], ignore_index = True)\n",
    "    i = i+1    \n",
    "data['all_distance'] = data['0-300; All : distance'] + data['300-600; All : distance']\n",
    "data.head()"
   ]
  },
  {
   "cell_type": "code",
   "execution_count": null,
   "id": "d52c0bb9",
   "metadata": {},
   "outputs": [],
   "source": [
    "# analyze the first 5 min for anxiety\n",
    "# time spent in the center; distance travelled in the center and total distance\n",
    "plt.figure()\n",
    "sns.barplot(\n",
    "    data = data,\n",
    "    x=\"Treatment\", y=\"0-300; Center : time\")\n",
    "\n",
    "sns.scatterplot(\n",
    "    data=data,\n",
    "    x=\"Treatment\", y=\"0-300; Center : time\")\n",
    "\n",
    "plt.figure()\n",
    "sns.barplot(\n",
    "    data = data,\n",
    "    x=\"Treatment\", y=\"0-300; Center : distance\")\n",
    "\n",
    "sns.scatterplot(\n",
    "    data=data,\n",
    "    x=\"Treatment\", y=\"0-300; Center : distance\")\n",
    "\n",
    "plt.figure()\n",
    "sns.barplot(\n",
    "    data = data,\n",
    "    x=\"Treatment\", y=\"0-300; All : distance\")\n",
    "\n",
    "sns.scatterplot(\n",
    "    data=data,\n",
    "    x=\"Treatment\", y=\"0-300; All : distance\")\n"
   ]
  },
  {
   "cell_type": "code",
   "execution_count": null,
   "id": "e67703aa",
   "metadata": {},
   "outputs": [],
   "source": [
    "data.columns"
   ]
  },
  {
   "cell_type": "code",
   "execution_count": null,
   "id": "001b7841",
   "metadata": {},
   "outputs": [],
   "source": []
  },
  {
   "cell_type": "markdown",
   "id": "c6b47764",
   "metadata": {},
   "source": [
    "Zero Maze analysis"
   ]
  },
  {
   "cell_type": "code",
   "execution_count": null,
   "id": "1dfbbe9c",
   "metadata": {},
   "outputs": [],
   "source": [
    "directory = 'D:\\Project_Master_Folder\\Withdrawal-Pain-Anxiety\\Anxiety\\ZeroMaze\\MWD'\n",
    "i = 0\n",
    "for filenames in os.listdir(directory):\n",
    "    if filenames.endswith('.csv'):\n",
    "        # Prepare the Summary DataFrame for Each Session\n",
    "        df = pd.read_csv(os.path.join(directory, filenames), header = 0)\n",
    "    else:\n",
    "        continue\n",
    "    if i == 0:\n",
    "        data = df\n",
    "    else:\n",
    "        data = pd.concat([data,df], ignore_index=True)\n",
    "    i = i+1    \n",
    "data.head()\n",
    "\n",
    "# only analyze the first 5 min\n",
    "sub_data = data.loc[(data['Segment of test'] == '0 - 300 secs.')]\n",
    "sub_data.head()"
   ]
  },
  {
   "cell_type": "code",
   "execution_count": null,
   "id": "2aab296d",
   "metadata": {},
   "outputs": [],
   "source": [
    "# scatter plot showing the open arm time\n",
    "sns.barplot(\n",
    "    data = sub_data,\n",
    "    x=\"Treatment\", y=\"Open : time\")\n",
    "\n",
    "sns.scatterplot(\n",
    "    data=sub_data,\n",
    "    x=\"Treatment\", y=\"Open : time\",  \n",
    ")"
   ]
  },
  {
   "cell_type": "code",
   "execution_count": null,
   "id": "a10660a7",
   "metadata": {},
   "outputs": [],
   "source": []
  }
 ],
 "metadata": {
  "kernelspec": {
   "display_name": "Python 3 (ipykernel)",
   "language": "python",
   "name": "python3"
  },
  "language_info": {
   "codemirror_mode": {
    "name": "ipython",
    "version": 3
   },
   "file_extension": ".py",
   "mimetype": "text/x-python",
   "name": "python",
   "nbconvert_exporter": "python",
   "pygments_lexer": "ipython3",
   "version": "3.8.8"
  }
 },
 "nbformat": 4,
 "nbformat_minor": 5
}
